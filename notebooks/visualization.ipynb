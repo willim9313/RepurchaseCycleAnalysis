{
 "cells": [
  {
   "cell_type": "code",
   "execution_count": 5,
   "id": "71780e1f",
   "metadata": {},
   "outputs": [
    {
     "ename": "ImportError",
     "evalue": "attempted relative import with no known parent package",
     "output_type": "error",
     "traceback": [
      "\u001b[31m---------------------------------------------------------------------------\u001b[39m",
      "\u001b[31mImportError\u001b[39m                               Traceback (most recent call last)",
      "\u001b[36mCell\u001b[39m\u001b[36m \u001b[39m\u001b[32mIn[5]\u001b[39m\u001b[32m, line 2\u001b[39m\n\u001b[32m      1\u001b[39m \u001b[38;5;28;01mimport\u001b[39;00m\u001b[38;5;250m \u001b[39m\u001b[34;01mpandas\u001b[39;00m\u001b[38;5;250m \u001b[39m\u001b[38;5;28;01mas\u001b[39;00m\u001b[38;5;250m \u001b[39m\u001b[34;01mpd\u001b[39;00m\n\u001b[32m----> \u001b[39m\u001b[32m2\u001b[39m \u001b[38;5;28;01mfrom\u001b[39;00m\u001b[38;5;250m \u001b[39m\u001b[34;01m.\u001b[39;00m\u001b[34;01m.\u001b[39;00m\u001b[34;01msrc\u001b[39;00m\u001b[34;01m.\u001b[39;00m\u001b[34;01metl\u001b[39;00m\u001b[38;5;250m \u001b[39m\u001b[38;5;28;01mimport\u001b[39;00m build_intervals\n\u001b[32m      3\u001b[39m \u001b[38;5;28;01mfrom\u001b[39;00m\u001b[38;5;250m \u001b[39m\u001b[34;01m.\u001b[39;00m\u001b[34;01m.\u001b[39;00m\u001b[34;01msrc\u001b[39;00m\u001b[34;01m.\u001b[39;00m\u001b[34;01mstats\u001b[39;00m\u001b[38;5;250m \u001b[39m\u001b[38;5;28;01mimport\u001b[39;00m analyze_distribution\n\u001b[32m      4\u001b[39m \u001b[38;5;28;01mfrom\u001b[39;00m\u001b[38;5;250m \u001b[39m\u001b[34;01m.\u001b[39;00m\u001b[34;01m.\u001b[39;00m\u001b[34;01msrc\u001b[39;00m\u001b[34;01m.\u001b[39;00m\u001b[34;01mviz\u001b[39;00m\u001b[38;5;250m \u001b[39m\u001b[38;5;28;01mimport\u001b[39;00m plot_multi_category_kde\n",
      "\u001b[31mImportError\u001b[39m: attempted relative import with no known parent package"
     ]
    }
   ],
   "source": [
    "import pandas as pd\n",
    "from ..src.etl import build_intervals\n",
    "from ..src.stats import analyze_distribution\n",
    "from ..src.viz import plot_multi_category_kde\n",
    "from ..src.viz import plot_summary_comparison\n"
   ]
  },
  {
   "cell_type": "code",
   "execution_count": null,
   "id": "81a34692",
   "metadata": {},
   "outputs": [],
   "source": [
    "raw_df = pd.read_csv(\n",
    "        \"data/raw/uk_retail_transactions.csv\",\n",
    "        encoding='utf-8',\n",
    "        encoding_errors='ignore',\n",
    "        on_bad_lines=\"skip\",\n",
    "        delimiter=','\n",
    "    )\n",
    "    # 將 InvoiceDate 轉為 datetime\n",
    "    raw_df['purchase_date'] = pd.to_datetime(raw_df['InvoiceDate'], errors='coerce')\n",
    "    raw_df['uid'] = raw_df['CustomerID'].astype(str)\n",
    "    raw_df['it_name'] = raw_df['Description'].astype(str)"
   ]
  },
  {
   "cell_type": "code",
   "execution_count": null,
   "id": "1856fa19",
   "metadata": {},
   "outputs": [],
   "source": [
    "\n",
    "\n",
    "# 1. 建立 interval_df\n",
    "interval_df = build_intervals(raw_df, min_purchase=2, category_col=\"cat\")\n",
    "\n",
    "# 2. 產出統計報告\n",
    "dist_report = analyze_distribution(interval_df)\n",
    "\n",
    "# 3. 將每個分類的峰值整理成 dict\n",
    "kde_peaks_map = {\n",
    "    row[\"cat\"]: row[\"kde_peaks\"] for _, row in dist_report.iterrows()\n",
    "    if isinstance(row[\"kde_peaks\"], list)\n",
    "}\n",
    "\n",
    "# 4. 畫多分類 KDE\n",
    "plot_multi_category_kde(\n",
    "    interval_df,\n",
    "    interval_col=\"interval_days\",\n",
    "    category_col=\"cat\",\n",
    "    kde_peaks_map=kde_peaks_map,\n",
    ")\n",
    "\n",
    "# dist_report 為 analyze_distribution 的結果\n",
    "plot_summary_comparison(\n",
    "    summary_df=dist_report,\n",
    "    value_col=\"mean\",     # 可換成 median\n",
    "    error_col=\"std\",      # 或 cv\n",
    "    peaks_col=\"kde_peaks\",\n",
    ")\n"
   ]
  }
 ],
 "metadata": {
  "kernelspec": {
   "display_name": "repurchasecycleanalysis",
   "language": "python",
   "name": "python3"
  },
  "language_info": {
   "codemirror_mode": {
    "name": "ipython",
    "version": 3
   },
   "file_extension": ".py",
   "mimetype": "text/x-python",
   "name": "python",
   "nbconvert_exporter": "python",
   "pygments_lexer": "ipython3",
   "version": "3.13.3"
  }
 },
 "nbformat": 4,
 "nbformat_minor": 5
}
